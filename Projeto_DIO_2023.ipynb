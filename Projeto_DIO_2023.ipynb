{
  "nbformat": 4,
  "nbformat_minor": 0,
  "metadata": {
    "colab": {
      "provenance": [],
      "authorship_tag": "ABX9TyNhLpgz9Us2ir9++EuTIkh3",
      "include_colab_link": true
    },
    "kernelspec": {
      "name": "python3",
      "display_name": "Python 3"
    },
    "language_info": {
      "name": "python"
    }
  },
  "cells": [
    {
      "cell_type": "markdown",
      "metadata": {
        "id": "view-in-github",
        "colab_type": "text"
      },
      "source": [
        "<a href=\"https://colab.research.google.com/github/FilipeLira-Dev/AnimeRatingsAnalysis/blob/main/Projeto_DIO_2023.ipynb\" target=\"_parent\"><img src=\"https://colab.research.google.com/assets/colab-badge.svg\" alt=\"Open In Colab\"/></a>"
      ]
    },
    {
      "cell_type": "code",
      "execution_count": 9,
      "metadata": {
        "id": "94U9hCsF1meP"
      },
      "outputs": [],
      "source": [
        "import pandas as pd\n",
        "import requests\n",
        "import sqlite3\n",
        "from sqlalchemy import create_engine"
      ]
    },
    {
      "cell_type": "code",
      "source": [
        "#1. Extração de dados\n",
        "df = pd.read_csv('Anime.csv') #Leitura do arquivo csv"
      ],
      "metadata": {
        "id": "ictJTKFu2J5D"
      },
      "execution_count": 41,
      "outputs": []
    },
    {
      "cell_type": "code",
      "source": [
        "#2. Transformação de dados\n",
        "#2.1. Renomeando colunas\n",
        "df = df.rename(columns={\n",
        "    'Name':'Nome',\n",
        "    'Type':'Tipo',\n",
        "    'Episodes':'Episodios',\n",
        "    'Studio':'Estudio',\n",
        "    'Rating':'Avaliacao',\n",
        "    'Release_year':'Ano_lancamento',\n",
        "    'End_year':'Ano_termino',\n",
        "    'Description':'Descricao',\n",
        "    'Content_Warning':'Conteúdo_Aviso'\n",
        "})"
      ],
      "metadata": {
        "id": "CQ0H5Ki656aX"
      },
      "execution_count": 42,
      "outputs": []
    },
    {
      "cell_type": "code",
      "source": [
        "#2.2. Drop colunas\n",
        "colunas_drop = ['Japanese_name', 'Release_season', 'Related_Mange', 'Related_anime', 'Voice_actors', 'staff'] #lista de colunas\n",
        "df = df.drop(columns=colunas_drop) #apagando colunas"
      ],
      "metadata": {
        "id": "hF4cFuq42cvf"
      },
      "execution_count": 43,
      "outputs": []
    },
    {
      "cell_type": "code",
      "source": [
        "#2.3 Filtrando os animes com notas iguais ou superiores a 3.5\n",
        "df = df[df['Avaliacao'] >= 3.5]"
      ],
      "metadata": {
        "id": "gUoC0RD7WoxU"
      },
      "execution_count": 67,
      "outputs": []
    },
    {
      "cell_type": "code",
      "source": [
        "#2.4. Verificando colunas com valores vazios\n",
        "for coluna in df.columns: #criação de um laço para verificação de valores vazios por coluna\n",
        "    quantidade_de_nan = df[coluna].isna().sum()\n",
        "    print(f\"A quantidade de valores NaN na coluna '{coluna}' é: {quantidade_de_nan}\")"
      ],
      "metadata": {
        "colab": {
          "base_uri": "https://localhost:8080/"
        },
        "id": "O8msvfzF33F3",
        "outputId": "d4b821ef-bfd5-42f0-acef-ed12fb48eab1"
      },
      "execution_count": 68,
      "outputs": [
        {
          "output_type": "stream",
          "name": "stdout",
          "text": [
            "A quantidade de valores NaN na coluna 'Rank' é: 0\n",
            "A quantidade de valores NaN na coluna 'Nome' é: 0\n",
            "A quantidade de valores NaN na coluna 'Tipo' é: 0\n",
            "A quantidade de valores NaN na coluna 'Episodios' é: 1764\n",
            "A quantidade de valores NaN na coluna 'Estudio' é: 0\n",
            "A quantidade de valores NaN na coluna 'Tags' é: 12\n",
            "A quantidade de valores NaN na coluna 'Avaliacao' é: 0\n",
            "A quantidade de valores NaN na coluna 'Ano_lancamento' é: 0\n",
            "A quantidade de valores NaN na coluna 'Ano_termino' é: 3725\n",
            "A quantidade de valores NaN na coluna 'Descricao' é: 0\n",
            "A quantidade de valores NaN na coluna 'Conteúdo_Aviso' é: 3828\n"
          ]
        }
      ]
    },
    {
      "cell_type": "code",
      "source": [
        "#2.5. Realizando limpeza de valores vazios\n",
        "preencimento_val = ['Episodios', 'Avaliacao', 'Ano_lancamento', 'Ano_termino'] #lista de colunas com valores vazios\n",
        "df[preencimento_val] = df[preencimento_val].replace(' ', pd.NA) #preenchimento de valores vazios\n",
        "\n",
        "colunas_para_tratar = ['Ano_lancamento', 'Estudio', 'Descricao'] #lista de colunas com valores vazios para apagar\n",
        "df = df.dropna(subset=colunas_para_tratar) #apagando dados com linhas vazias"
      ],
      "metadata": {
        "id": "DBCpmitz4DGF"
      },
      "execution_count": 69,
      "outputs": []
    },
    {
      "cell_type": "code",
      "source": [
        "#3. Carregamento de dados\n",
        "db_engine = create_engine('sqlite:///dados.db')\n",
        "df.to_sql('tabela_destino', db_engine, if_exists='replace', index=False)\n",
        "db_engine.dispose()"
      ],
      "metadata": {
        "id": "2tvICOF9720V"
      },
      "execution_count": 70,
      "outputs": []
    }
  ]
}